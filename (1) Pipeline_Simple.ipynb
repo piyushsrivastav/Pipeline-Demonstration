{
  "cells": [
    {
      "cell_type": "markdown",
      "metadata": {
        "id": "view-in-github",
        "colab_type": "text"
      },
      "source": [
        "<a href=\"https://colab.research.google.com/github/piyushsrivastav/Pipeline-Demonstration/blob/main/(1)%20Pipeline_Simple.ipynb\" target=\"_parent\"><img src=\"https://colab.research.google.com/assets/colab-badge.svg\" alt=\"Open In Colab\"/></a>"
      ]
    },
    {
      "cell_type": "code",
      "execution_count": 2,
      "metadata": {
        "colab": {
          "base_uri": "https://localhost:8080/"
        },
        "id": "u8tdMT7VU2Hf",
        "outputId": "08455d76-0c36-40fd-d177-1f0d638e6e59"
      },
      "outputs": [
        {
          "output_type": "execute_result",
          "data": {
            "text/plain": [
              "Pipeline(steps=[('scaler', StandardScaler()), ('clf', LogisticRegression())])"
            ]
          },
          "metadata": {},
          "execution_count": 2
        }
      ],
      "source": [
        "import pandas as pd\n",
        "from sklearn.pipeline import Pipeline\n",
        "from sklearn.preprocessing import StandardScaler\n",
        "from sklearn.linear_model import LogisticRegression\n",
        "from sklearn.model_selection import train_test_split\n",
        "\n",
        "\n",
        "\n",
        "\n",
        "# Since it is a data file with no header, we will supply the column names which have been obtained from the above URL \n",
        "# Create a python list of column names called \"colnames\"\n",
        "\n",
        "colnames = ['preg', 'plas', 'pres', 'skin', 'test', 'mass', 'pedi', 'age', 'class']\n",
        "\n",
        "#Load the file from local directory using pd.read_csv which is a special form of read_table\n",
        "#while reading the data, supply the \"colnames\" list\n",
        "\n",
        "pima_df = pd.read_csv('pima-indians-diabetes.data', names= colnames)\n",
        "\n",
        "\n",
        "array = pima_df.values\n",
        "X = array[:,0:7] # select all rows and first 8 columns which are the attributes\n",
        "Y = array[:,8]   # select all rows and the 8th column which is the classification \"Yes\", \"No\" for diabeties\n",
        "test_size = 0.30 # taking 70:30 training and test set\n",
        "seed = 7  # Random numbmer seeding for reapeatability of the code\n",
        "X_train, X_test, y_train, y_test = train_test_split(X, Y, test_size=test_size, random_state=seed)\n",
        "type(X_train)\n",
        "\n",
        "\n",
        "\n",
        "\n",
        "# it takes a list of tuples as parameter. The last entry is the call to the modelling algorithm\n",
        "pipeline = Pipeline([\n",
        "    ('scaler',StandardScaler()),\n",
        "    ('clf', LogisticRegression())\n",
        "])\n",
        "\n",
        "# use the pipeline object as you would\n",
        "# a regular classifier\n",
        "pipeline.fit(X_train,y_train)"
      ]
    },
    {
      "cell_type": "code",
      "execution_count": 3,
      "metadata": {
        "colab": {
          "base_uri": "https://localhost:8080/"
        },
        "id": "BpJUHehUU2Hl",
        "outputId": "8a760a24-dbda-45d2-afe8-198102e9e88b"
      },
      "outputs": [
        {
          "output_type": "stream",
          "name": "stdout",
          "text": [
            "0.7792207792207793\n",
            "[[132  15]\n",
            " [ 36  48]]\n"
          ]
        }
      ],
      "source": [
        "from sklearn import metrics\n",
        "\n",
        "y_predict = pipeline.predict(X_test)\n",
        "model_score = pipeline.score(X_test, y_test)\n",
        "print(model_score)\n",
        "print(metrics.confusion_matrix(y_test, y_predict))"
      ]
    },
    {
      "cell_type": "code",
      "execution_count": null,
      "metadata": {
        "id": "bhKbo_JoU2Hm"
      },
      "outputs": [],
      "source": []
    }
  ],
  "metadata": {
    "kernelspec": {
      "display_name": "Python 3",
      "language": "python",
      "name": "python3"
    },
    "language_info": {
      "codemirror_mode": {
        "name": "ipython",
        "version": 3
      },
      "file_extension": ".py",
      "mimetype": "text/x-python",
      "name": "python",
      "nbconvert_exporter": "python",
      "pygments_lexer": "ipython3",
      "version": "3.6.4"
    },
    "colab": {
      "provenance": [],
      "include_colab_link": true
    }
  },
  "nbformat": 4,
  "nbformat_minor": 0
}