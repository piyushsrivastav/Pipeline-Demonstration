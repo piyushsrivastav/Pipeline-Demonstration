{
  "cells": [
    {
      "cell_type": "markdown",
      "metadata": {
        "id": "view-in-github",
        "colab_type": "text"
      },
      "source": [
        "<a href=\"https://colab.research.google.com/github/piyushsrivastav/Pipeline-Demonstration/blob/main/(2)%20pipeline_introduction.ipynb\" target=\"_parent\"><img src=\"https://colab.research.google.com/assets/colab-badge.svg\" alt=\"Open In Colab\"/></a>"
      ]
    },
    {
      "cell_type": "code",
      "execution_count": 1,
      "metadata": {
        "id": "F06SUTuuTm1Y"
      },
      "outputs": [],
      "source": [
        "from sklearn.svm import SVC \n",
        "from sklearn.datasets import load_breast_cancer \n",
        "from sklearn.model_selection import train_test_split \n",
        "from sklearn.preprocessing import MinMaxScaler"
      ]
    },
    {
      "cell_type": "code",
      "execution_count": 2,
      "metadata": {
        "id": "-giGvPl-Tm2C"
      },
      "outputs": [],
      "source": [
        "# load and split the data \n",
        "cancer = load_breast_cancer() \n",
        "# compute minimum and maximum on the training data\n",
        "X_train, X_test, y_train, y_test = train_test_split( cancer.data, cancer.target, random_state = 0)  \n",
        "# scaling the data\n",
        "scaler = MinMaxScaler().fit(X_train)"
      ]
    },
    {
      "cell_type": "code",
      "execution_count": 3,
      "metadata": {
        "colab": {
          "base_uri": "https://localhost:8080/"
        },
        "id": "_1TVsG5YTm2K",
        "outputId": "a74306ad-63ed-415d-a3e7-0d9968af488f"
      },
      "outputs": [
        {
          "output_type": "stream",
          "name": "stdout",
          "text": [
            " Test score: 0.97\n"
          ]
        }
      ],
      "source": [
        "X_train_scaled = scaler.transform( X_train) \n",
        "svm = SVC() # learn an SVM on the scaled training data svm.fit( X_train_scaled, y_train)\n",
        "svm.fit( X_train_scaled, y_train)\n",
        "\n",
        "\n",
        "\n",
        "X_test_scaled = scaler.transform( X_test) \n",
        "print(\" Test score: {:.2f}\".format( svm.score( X_test_scaled, y_test)))\n",
        "\n"
      ]
    },
    {
      "cell_type": "markdown",
      "metadata": {
        "id": "ivpAWk7FTm2b"
      },
      "source": [
        "# Use Pipeline to link all the steps into one single object"
      ]
    },
    {
      "cell_type": "code",
      "execution_count": 4,
      "metadata": {
        "id": "5se5-BK8Tm2n"
      },
      "outputs": [],
      "source": [
        "from sklearn.pipeline import Pipeline\n",
        "pipe = Pipeline([(\" scaler\", MinMaxScaler()), (\" svm\", SVC())])"
      ]
    },
    {
      "cell_type": "code",
      "execution_count": 5,
      "metadata": {
        "id": "c1R1keKxTm2s",
        "outputId": "dce531c6-b370-4912-d96b-751bbff3b030",
        "colab": {
          "base_uri": "https://localhost:8080/"
        }
      },
      "outputs": [
        {
          "output_type": "execute_result",
          "data": {
            "text/plain": [
              "Pipeline(steps=[(' scaler', MinMaxScaler()), (' svm', SVC())])"
            ]
          },
          "metadata": {},
          "execution_count": 5
        }
      ],
      "source": [
        "pipe.fit( X_train, y_train)"
      ]
    },
    {
      "cell_type": "code",
      "execution_count": 6,
      "metadata": {
        "id": "DTQMHHr1Tm22",
        "outputId": "265bc378-581d-4d72-fa3f-e7669a32d1cc",
        "colab": {
          "base_uri": "https://localhost:8080/"
        }
      },
      "outputs": [
        {
          "output_type": "stream",
          "name": "stdout",
          "text": [
            " Test score: 0.97\n"
          ]
        }
      ],
      "source": [
        "print(\" Test score: {:.2f}\". format( pipe.score( X_test, y_test)))"
      ]
    },
    {
      "cell_type": "code",
      "execution_count": 7,
      "metadata": {
        "id": "ngeJjqwETm3A"
      },
      "outputs": [],
      "source": [
        "y_pred = pipe.predict(X_test)"
      ]
    },
    {
      "cell_type": "code",
      "execution_count": 8,
      "metadata": {
        "id": "MakHkZn-Tm3I",
        "outputId": "f25b7c1c-3dc6-47f5-9a71-d1a567f7576e",
        "colab": {
          "base_uri": "https://localhost:8080/"
        }
      },
      "outputs": [
        {
          "output_type": "stream",
          "name": "stdout",
          "text": [
            "              precision    recall  f1-score   support\n",
            "\n",
            "           0       0.98      0.94      0.96        53\n",
            "           1       0.97      0.99      0.98        90\n",
            "\n",
            "    accuracy                           0.97       143\n",
            "   macro avg       0.97      0.97      0.97       143\n",
            "weighted avg       0.97      0.97      0.97       143\n",
            "\n"
          ]
        }
      ],
      "source": [
        "from sklearn import metrics\n",
        "\n",
        "print(metrics.classification_report(y_test, y_pred))"
      ]
    },
    {
      "cell_type": "markdown",
      "metadata": {
        "id": "2Wzr5oxATm3R"
      },
      "source": [
        "# Makepipeline for simpler pipe"
      ]
    },
    {
      "cell_type": "code",
      "execution_count": 9,
      "metadata": {
        "id": "KwwfhPzvTm3Y"
      },
      "outputs": [],
      "source": [
        "\n",
        "from sklearn.pipeline import make_pipeline\n",
        "\n"
      ]
    },
    {
      "cell_type": "code",
      "execution_count": 10,
      "metadata": {
        "id": "QzL48kl7Tm3d",
        "outputId": "bf29f47b-b8ae-49c3-f599-739353327a72",
        "colab": {
          "base_uri": "https://localhost:8080/"
        }
      },
      "outputs": [
        {
          "output_type": "stream",
          "name": "stdout",
          "text": [
            " Pipeline steps:\\ n[('minmaxscaler', MinMaxScaler()), ('svc', SVC())]\n"
          ]
        }
      ],
      "source": [
        "pipe = make_pipeline( MinMaxScaler(), (SVC())) \n",
        "print(\" Pipeline steps:\\ n{}\". format( pipe.steps))"
      ]
    },
    {
      "cell_type": "code",
      "execution_count": 11,
      "metadata": {
        "id": "eLVGjuBlTm3i",
        "outputId": "4f272976-81b5-4c43-cf13-b6b7d74626fd",
        "colab": {
          "base_uri": "https://localhost:8080/"
        }
      },
      "outputs": [
        {
          "output_type": "execute_result",
          "data": {
            "text/plain": [
              "Pipeline(steps=[('minmaxscaler', MinMaxScaler()), ('svc', SVC())])"
            ]
          },
          "metadata": {},
          "execution_count": 11
        }
      ],
      "source": [
        "pipe.fit( X_train, y_train)"
      ]
    },
    {
      "cell_type": "code",
      "execution_count": 12,
      "metadata": {
        "id": "MBjUqlfiTm3o",
        "outputId": "883b3b15-b13b-4aad-e01e-0d403933044d",
        "colab": {
          "base_uri": "https://localhost:8080/"
        }
      },
      "outputs": [
        {
          "output_type": "stream",
          "name": "stdout",
          "text": [
            " Test score: 0.97\n"
          ]
        }
      ],
      "source": [
        "print(\" Test score: {:.2f}\". format( pipe.score( X_test, y_test)))"
      ]
    },
    {
      "cell_type": "code",
      "execution_count": 12,
      "metadata": {
        "id": "OmF0f0ZXTm3r"
      },
      "outputs": [],
      "source": []
    }
  ],
  "metadata": {
    "kernelspec": {
      "display_name": "Python 3",
      "language": "python",
      "name": "python3"
    },
    "language_info": {
      "codemirror_mode": {
        "name": "ipython",
        "version": 3
      },
      "file_extension": ".py",
      "mimetype": "text/x-python",
      "name": "python",
      "nbconvert_exporter": "python",
      "pygments_lexer": "ipython3",
      "version": "3.6.4"
    },
    "colab": {
      "provenance": [],
      "include_colab_link": true
    }
  },
  "nbformat": 4,
  "nbformat_minor": 0
}